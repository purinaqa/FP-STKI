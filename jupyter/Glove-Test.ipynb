{
 "cells": [
  {
   "cell_type": "code",
   "execution_count": 1,
   "metadata": {
    "collapsed": true
   },
   "outputs": [],
   "source": [
    "from gensim.test.utils import datapath, get_tmpfile\n",
    "from gensim.models import KeyedVectors\n",
    "from gensim.scripts.glove2word2vec import glove2word2vec\n",
    "\n",
    "\n",
    "tmp_file = get_tmpfile(\"w2v_format.txt\")\n",
    "\n",
    "glove2word2vec(\"./GloVe-1.2/vectors.txt\", tmp_file)\n",
    "\n",
    "model = KeyedVectors.load_word2vec_format(tmp_file, binary=False)"
   ]
  },
  {
   "cell_type": "code",
   "execution_count": 42,
   "metadata": {
    "collapsed": true
   },
   "outputs": [],
   "source": [
    "import numpy as np\n",
    "import matplotlib.pyplot as plt\n",
    "from sklearn.decomposition import PCA"
   ]
  },
  {
   "cell_type": "code",
   "execution_count": 24,
   "metadata": {
    "collapsed": false
   },
   "outputs": [
    {
     "data": {
      "text/plain": [
       "[(u'membayar', 0.6575507521629333),\n",
       " (u'rp', 0.5960217714309692),\n",
       " (u'membutuhkan', 0.5912636518478394),\n",
       " (u'ongkos', 0.5807889699935913),\n",
       " (u'mahal', 0.5767738223075867),\n",
       " (u'dibutuhkan', 0.5675492286682129),\n",
       " (u'dana', 0.5648520588874817),\n",
       " (u'mengurangi', 0.5615929365158081),\n",
       " (u'uang', 0.5529841780662537),\n",
       " (u'harga', 0.5436362624168396)]"
      ]
     },
     "execution_count": 24,
     "metadata": {},
     "output_type": "execute_result"
    }
   ],
   "source": [
    "biaya_ms = model.wv.most_similar(\"biaya\")\n",
    "biaya_ms"
   ]
  },
  {
   "cell_type": "code",
   "execution_count": 3,
   "metadata": {
    "collapsed": false
   },
   "outputs": [
    {
     "data": {
      "text/plain": [
       "[(u'peta', 0.6863354444503784),\n",
       " (u'menunjukan', 0.6283794641494751),\n",
       " (u'tempat', 0.6212494373321533),\n",
       " (u'terletak', 0.6116560101509094),\n",
       " (u'letak', 0.6063498258590698),\n",
       " (u'menunjukkan', 0.5936872959136963),\n",
       " (u'lokasinya', 0.5912667512893677),\n",
       " (u'pilarpilar', 0.5784188508987427),\n",
       " (u'dekat', 0.5719654560089111),\n",
       " (u'berada', 0.5676753520965576)]"
      ]
     },
     "execution_count": 3,
     "metadata": {},
     "output_type": "execute_result"
    }
   ],
   "source": [
    "tempat_ms = model.wv.most_similar(\"lokasi\")\n",
    "tempat_ms"
   ]
  },
  {
   "cell_type": "code",
   "execution_count": 4,
   "metadata": {
    "collapsed": false
   },
   "outputs": [
    {
     "data": {
      "text/plain": [
       "[(u'mau', 0.6734130382537842),\n",
       " (u'kenapa', 0.6280697584152222),\n",
       " (u'nanya', 0.6216893792152405),\n",
       " (u'bertanya', 0.5981788635253906),\n",
       " (u'maaf', 0.5907891988754272),\n",
       " (u'bsm', 0.5875828862190247),\n",
       " (u'apakah', 0.5725212097167969),\n",
       " (u'menanyakan', 0.5657567381858826),\n",
       " (u'sy', 0.5514569878578186),\n",
       " (u'kapan', 0.537398636341095)]"
      ]
     },
     "execution_count": 4,
     "metadata": {},
     "output_type": "execute_result"
    }
   ],
   "source": [
    "tanya_ms = model.wv.most_similar(\"tanya\")\n",
    "tanya_ms"
   ]
  },
  {
   "cell_type": "code",
   "execution_count": 6,
   "metadata": {
    "collapsed": false
   },
   "outputs": [
    {
     "data": {
      "text/plain": [
       "[(u'sekolah', 0.672793447971344),\n",
       " (u'mandimc', 0.6702978610992432),\n",
       " (u'sma', 0.6162599325180054),\n",
       " (u'murid', 0.6150023937225342),\n",
       " (u'guru', 0.5971704721450806),\n",
       " (u'susipam', 0.5900489091873169),\n",
       " (u'mahasiswa', 0.589087963104248),\n",
       " (u'siswi', 0.5739251375198364),\n",
       " (u'kegiatan', 0.5646446943283081),\n",
       " (u'pelajaran', 0.5591602325439453)]"
      ]
     },
     "execution_count": 6,
     "metadata": {},
     "output_type": "execute_result"
    }
   ],
   "source": [
    "siswa_ms = model.wv.most_similar(\"siswa\")\n",
    "siswa_ms"
   ]
  },
  {
   "cell_type": "code",
   "execution_count": 7,
   "metadata": {
    "collapsed": false
   },
   "outputs": [
    {
     "data": {
      "text/plain": [
       "[(u'pemenang', 0.5852993130683899),\n",
       " (u'peserta', 0.5685210227966309),\n",
       " (u'babak', 0.558519721031189),\n",
       " (u'juri', 0.5153385996818542),\n",
       " (u'tereliminasi', 0.5089536905288696),\n",
       " (u'perolehan', 0.4900681972503662),\n",
       " (u'berhak', 0.48872435092926025),\n",
       " (u'menebak', 0.48496177792549133),\n",
       " (u'finalis', 0.48067301511764526),\n",
       " (u'jika', 0.4790874123573303)]"
      ]
     },
     "execution_count": 7,
     "metadata": {},
     "output_type": "execute_result"
    }
   ],
   "source": [
    "kontestan_ms = model.wv.most_similar(\"kontestan\")\n",
    "kontestan_ms"
   ]
  },
  {
   "cell_type": "code",
   "execution_count": 8,
   "metadata": {
    "collapsed": false
   },
   "outputs": [
    {
     "data": {
      "text/plain": [
       "[(u'mendaftar', 0.6272504329681396),\n",
       " (u'bpjs', 0.6236463785171509),\n",
       " (u'registrasi', 0.5951216220855713),\n",
       " (u'kesehatanbr', 0.5693961381912231),\n",
       " (u'penyajian', 0.5576267242431641),\n",
       " (u'aktivasi', 0.5493940711021423),\n",
       " (u'mendaftarkan', 0.5337743163108826),\n",
       " (u'online', 0.5228607654571533),\n",
       " (u'inggrisnip', 0.5163347721099854),\n",
       " (u'ipanip', 0.5059607028961182)]"
      ]
     },
     "execution_count": 8,
     "metadata": {},
     "output_type": "execute_result"
    }
   ],
   "source": [
    "daftar_ms = model.wv.most_similar(\"pendaftaran\")\n",
    "daftar_ms"
   ]
  },
  {
   "cell_type": "code",
   "execution_count": 9,
   "metadata": {
    "collapsed": false
   },
   "outputs": [
    {
     "data": {
      "text/plain": [
       "[(u'sudah', 0.8076289296150208),\n",
       " (u'masih', 0.6966195106506348),\n",
       " (u'tapi', 0.695305347442627),\n",
       " (u'ada', 0.6924129724502563),\n",
       " (u'tidak', 0.689093291759491),\n",
       " (u'bisa', 0.6744711399078369),\n",
       " (u'padahal', 0.6596667170524597),\n",
       " (u'walaupun', 0.6563247442245483),\n",
       " (u'lagi', 0.6484408378601074),\n",
       " (u'tetapi', 0.646705687046051)]"
      ]
     },
     "execution_count": 9,
     "metadata": {},
     "output_type": "execute_result"
    }
   ],
   "source": [
    "belum_ms = model.wv.most_similar(\"belum\")\n",
    "belum_ms"
   ]
  },
  {
   "cell_type": "code",
   "execution_count": 124,
   "metadata": {
    "collapsed": false,
    "scrolled": true
   },
   "outputs": [
    {
     "data": {
      "text/plain": [
       "[(u'pakaian', 0.6143879890441895),\n",
       " (u'mengenakan', 0.6006348729133606),\n",
       " (u'periodepenyedia', 0.5797690749168396),\n",
       " (u'baju', 0.5649685859680176),\n",
       " (u'berkapasitas', 0.561446487903595),\n",
       " (u'kostum', 0.5584600567817688),\n",
       " (u'berwarna', 0.5469635725021362),\n",
       " (u'memakai', 0.5457733869552612),\n",
       " (u'putripngpakaian', 0.5270987749099731),\n",
       " (u'celana', 0.5141156911849976)]"
      ]
     },
     "execution_count": 124,
     "metadata": {},
     "output_type": "execute_result"
    }
   ],
   "source": [
    "seragam_ms = model.wv.most_similar(\"seragam\")\n",
    "seragam_ms"
   ]
  },
  {
   "cell_type": "code",
   "execution_count": null,
   "metadata": {
    "collapsed": true
   },
   "outputs": [],
   "source": [
    "zakat_ms = model.wv.most_similar(\"zakat\")\n",
    "zakat_ms"
   ]
  },
  {
   "cell_type": "code",
   "execution_count": 108,
   "metadata": {
    "collapsed": true
   },
   "outputs": [],
   "source": [
    "def wordVectorsPlot(arr, center, rg):\n",
    "    words = []\n",
    "    vecs = []\n",
    "    \n",
    "    words.append(center)\n",
    "    vecs.append(model.wv[center])\n",
    "    \n",
    "    for word, cosine in arr:\n",
    "        words.append(word)\n",
    "        vecs.append(model.wv[word])\n",
    "        \n",
    "    words = np.array(words)\n",
    "    vecs = np.array(vecs)\n",
    "    \n",
    "    pca = PCA(n_components=2)\n",
    "    vecs_pca = pca.fit_transform(vecs)\n",
    "    \n",
    "    fig, ax = plt.subplots()\n",
    "    if rg != -1:\n",
    "        plt.xlim([-rg, rg])\n",
    "        plt.ylim([-rg, rg])\n",
    "    ax.scatter(vecs_pca[:,0], vecs_pca[:,1], color=\"w\")\n",
    "    \n",
    "    for i, dot in enumerate(vecs_pca):\n",
    "        ax.annotate(words[i], dot)"
   ]
  },
  {
   "cell_type": "code",
   "execution_count": 109,
   "metadata": {
    "collapsed": false
   },
   "outputs": [
    {
     "data": {
      "image/png": "[encoded data removed]",
      "text/plain": [
       "<matplotlib.figure.Figure at 0x7f4c2687abd0>"
      ]
     },
     "metadata": {},
     "output_type": "display_data"
    }
   ],
   "source": [
    "wordVectorsPlot(biaya_ms, \"biaya\", 5)"
   ]
  },
  {
   "cell_type": "code",
   "execution_count": 112,
   "metadata": {
    "collapsed": false
   },
   "outputs": [
    {
     "data": {
      "image/png": "[encoded data removed]",
      "text/plain": [
       "<matplotlib.figure.Figure at 0x7f4c2786fc50>"
      ]
     },
     "metadata": {},
     "output_type": "display_data"
    }
   ],
   "source": [
    "wordVectorsPlot(tempat_ms, \"lokasi\", 6)"
   ]
  },
  {
   "cell_type": "code",
   "execution_count": 116,
   "metadata": {
    "collapsed": false
   },
   "outputs": [
    {
     "data": {
      "image/png": "[encoded data removed]",
      "text/plain": [
       "<matplotlib.figure.Figure at 0x7f4c26a46990>"
      ]
     },
     "metadata": {},
     "output_type": "display_data"
    }
   ],
   "source": [
    "wordVectorsPlot(kontestan_ms, \"kontestan\", 6)"
   ]
  },
  {
   "cell_type": "code",
   "execution_count": 129,
   "metadata": {
    "collapsed": false
   },
   "outputs": [
    {
     "data": {
      "image/png": "[encoded data removed]",
      "text/plain": [
       "<matplotlib.figure.Figure at 0x7f4c27104a90>"
      ]
     },
     "metadata": {},
     "output_type": "display_data"
    }
   ],
   "source": [
    "wordVectorsPlot(seragam_ms, \"seragam\", -1)"
   ]
  },
  {
   "cell_type": "code",
   "execution_count": null,
   "metadata": {
    "collapsed": true
   },
   "outputs": [],
   "source": []
  }
 ],
 "metadata": {
  "kernelspec": {
   "display_name": "Python 2",
   "language": "python",
   "name": "python2"
  },
  "language_info": {
   "codemirror_mode": {
    "name": "ipython",
    "version": 2
   },
   "file_extension": ".py",
   "mimetype": "text/x-python",
   "name": "python",
   "nbconvert_exporter": "python",
   "pygments_lexer": "ipython2",
   "version": "2.7.13"
  }
 },
 "nbformat": 4,
 "nbformat_minor": 2
}
