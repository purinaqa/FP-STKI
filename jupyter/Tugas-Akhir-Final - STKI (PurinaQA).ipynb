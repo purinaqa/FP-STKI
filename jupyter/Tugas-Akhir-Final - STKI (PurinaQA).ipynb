{
 "cells": [
  {
   "cell_type": "markdown",
   "metadata": {},
   "source": [
    "# Tugas Akhir\n",
    "\"Klasfikasi Perintah Bahasa Natural Menggunakan *Global Vectors for Word Representations* (GloVe), *Convolutional Neural Networks*, dan Teknik *Transfer Learning* Untuk Aplikasi *Chatbots*\"<br>\n",
    "\n",
    "Irfan Hanif<br>\n",
    "5114100177"
   ]
  },
  {
   "cell_type": "markdown",
   "metadata": {},
   "source": [
    "### Menyiapkan Source Dataset\n",
    "Source Dataset akan digunakan untuk melatih CNN sebelum dilakukan proses Transfer Learning"
   ]
  },
  {
   "cell_type": "markdown",
   "metadata": {},
   "source": [
    "## Penjelasan\n",
    "\n",
    "Langkah pertama yang dilakukan adalah meng-import modul pandas dan numpy serta mengambil data lapor.csv pada folder di data_path"
   ]
  },
  {
   "cell_type": "code",
   "execution_count": 43,
   "metadata": {},
   "outputs": [],
   "source": [
    "import pandas as pd\n",
    "import numpy as np"
   ]
  },
  {
   "cell_type": "code",
   "execution_count": 44,
   "metadata": {},
   "outputs": [],
   "source": [
    "data_path = \"data/data_target/\"\n",
    "filename = \"questions.csv\""
   ]
  },
  {
   "cell_type": "markdown",
   "metadata": {},
   "source": [
    "Membaca file lapor.csv dengan memanfaatkan modul Pandas dengan menggunakan fungsi .head(), maka data yang ditampilkan merupakan 5 data teratas "
   ]
  },
  {
   "cell_type": "code",
   "execution_count": 45,
   "metadata": {
    "scrolled": true
   },
   "outputs": [
    {
     "data": {
      "text/html": [
       "<div>\n",
       "<style scoped>\n",
       "    .dataframe tbody tr th:only-of-type {\n",
       "        vertical-align: middle;\n",
       "    }\n",
       "\n",
       "    .dataframe tbody tr th {\n",
       "        vertical-align: top;\n",
       "    }\n",
       "\n",
       "    .dataframe thead th {\n",
       "        text-align: right;\n",
       "    }\n",
       "</style>\n",
       "<table border=\"1\" class=\"dataframe\">\n",
       "  <thead>\n",
       "    <tr style=\"text-align: right;\">\n",
       "      <th></th>\n",
       "      <th>pertanyaan</th>\n",
       "      <th>Kategori</th>\n",
       "    </tr>\n",
       "  </thead>\n",
       "  <tbody>\n",
       "    <tr>\n",
       "      <th>0</th>\n",
       "      <td>bagaimana kisah tentang mukasyafah nya sayyidi...</td>\n",
       "      <td>KISAH SAYYIDINA UMAR VS MALAIKAT MUNKAR-NAKIR</td>\n",
       "    </tr>\n",
       "    <tr>\n",
       "      <th>1</th>\n",
       "      <td>ceritakan kisah sayyidina umar vs munkar nakir</td>\n",
       "      <td>KISAH SAYYIDINA UMAR VS MALAIKAT MUNKAR-NAKIR</td>\n",
       "    </tr>\n",
       "    <tr>\n",
       "      <th>2</th>\n",
       "      <td>cerita sayyidina umar vs munkar nakir termaktu...</td>\n",
       "      <td>KISAH SAYYIDINA UMAR VS MALAIKAT MUNKAR-NAKIR</td>\n",
       "    </tr>\n",
       "    <tr>\n",
       "      <th>3</th>\n",
       "      <td>kenapa wudhu menggunakan air?</td>\n",
       "      <td>ALASAN BERSUCI DENGAN AIR</td>\n",
       "    </tr>\n",
       "    <tr>\n",
       "      <th>4</th>\n",
       "      <td>apakah bisa wudhu tidak menggunakan air?</td>\n",
       "      <td>ALASAN BERSUCI DENGAN AIR</td>\n",
       "    </tr>\n",
       "  </tbody>\n",
       "</table>\n",
       "</div>"
      ],
      "text/plain": [
       "                                          pertanyaan  \\\n",
       "0  bagaimana kisah tentang mukasyafah nya sayyidi...   \n",
       "1     ceritakan kisah sayyidina umar vs munkar nakir   \n",
       "2  cerita sayyidina umar vs munkar nakir termaktu...   \n",
       "3                      kenapa wudhu menggunakan air?   \n",
       "4           apakah bisa wudhu tidak menggunakan air?   \n",
       "\n",
       "                                        Kategori  \n",
       "0  KISAH SAYYIDINA UMAR VS MALAIKAT MUNKAR-NAKIR  \n",
       "1  KISAH SAYYIDINA UMAR VS MALAIKAT MUNKAR-NAKIR  \n",
       "2  KISAH SAYYIDINA UMAR VS MALAIKAT MUNKAR-NAKIR  \n",
       "3                      ALASAN BERSUCI DENGAN AIR  \n",
       "4                      ALASAN BERSUCI DENGAN AIR  "
      ]
     },
     "execution_count": 45,
     "metadata": {},
     "output_type": "execute_result"
    }
   ],
   "source": [
    "train_df = pd.read_csv(data_path + filename, delimiter=',')\n",
    "train_df.head()"
   ]
  },
  {
   "cell_type": "markdown",
   "metadata": {},
   "source": [
    "menampilkan jumlah masing-masing kategori"
   ]
  },
  {
   "cell_type": "code",
   "execution_count": 46,
   "metadata": {
    "scrolled": true
   },
   "outputs": [
    {
     "name": "stdout",
     "output_type": "stream",
     "text": [
      "ALASAN BERSUCI DENGAN AIR                                                  13\n",
      "TAFSIR MIMPI MASJID ROBOH                                                   5\n",
      "MAHAR NIKAH BERASAL DARI ORANG LAIN                                         5\n",
      "TAJWID : MAD LAZIM HARFI MUSYABBA?                                          5\n",
      "HUKUM BERQURBAN DENGAN AYAM JAGO                                            4\n",
      "HUKUM LAKI-LAKI MEMAKAI MINYAK ZA?FARON                                     4\n",
      "HUKUM BERBUAT DOSA BAGI ANAK YANG BELUM BALIGH II                           4\n",
      "JIKA MAKMUM KETINGGALAN BACA FATIHAH KARENA IMAM SHOLAT TERLALU CEPAT       4\n",
      "hukum sholat qobliyah shubuh setelah shalat shubuh                          4\n",
      "SHOLAT : HUKUM BACA BASMALAH SAAT AKAN SHOLAT                               4\n",
      "HUKUM MELUDAH KE ARAH KIBLAT                                                4\n",
      "HUKUM JUAL BELI KUCING                                                      4\n",
      "dalil posisi duduk saat zikir ba'da shalat maktubah                         3\n",
      "DALAM NAHWU ADAKAH MUBTADA BERUPA ISIM NAKIROH?                             3\n",
      "Hadist Malaikat Jibril meruqyah Nabi Muhammad SAW                           3\n",
      "Alasan sumpah dengan Al-Ashr                                                3\n",
      "hukum mengumandangkan azan dalam keadaan duduk                              3\n",
      "NAJASAH : BASAH YANG MENAJISKAN                                             3\n",
      "HUKUM MEMBACA SHOLAWAT KETIKA AKAN / SEDANG MAKAN                           3\n",
      "inilah definisi dan ta'rif dosa menurut kitab kuning                        3\n",
      "Jarak 300 hasta 301 masih di tolerir                                        3\n",
      "HUKUM MELAKUKAN HUBUNGAN INTIM PADA MASA MENYUSUI                           3\n",
      "Thoharoh : Perbedaan Thurob dan Ghubar                                      3\n",
      "adakah qoul yang membolehkan qurban setelah hari tasyrik?                   3\n",
      "Jika bernazar melakukan poligami                                            3\n",
      "Alquran adalah Alkitab                                                      3\n",
      "Arwah Muqoddasah                                                            3\n",
      "HUKUM SEMBELIHAN NON MUSLIM                                                 3\n",
      "ASMAUL HUSNA : INILAH PERBEDAAN AL-WAHID DAN AL-AHAD                        3\n",
      "FADHILAH DAN KEUTAMAAN SILATURRAHIM                                         3\n",
      "Hukum makan sampai kekenyangan                                              3\n",
      "PUASA : DUA KEBAHAGIAN BAGI ORANG YANG BERPUASA                             3\n",
      "HUKUM LELAKI MEMAKAI KALUNG TASBIH                                          3\n",
      "HUKUM ISTRI GUGAT CERAI SUAMI YANG DIPENJARA                                3\n",
      "Hukum memberikan THR tapi jadikan Zakat                                     3\n",
      "Perbedaan kalimat Rabb dan Illah                                            3\n",
      "Jika ahli waris tidak ada                                                   3\n",
      "anak tiri bukan ahli waris                                                  3\n",
      "hukum makan daging katak dan buaya                                          3\n",
      "TAFSIR MIMPI MELIHAT LANGIT                                                 3\n",
      "perhitungan pergantian waktu dalam islam                                    3\n",
      "Onani termasuk dosa besar atau kecil                                        3\n",
      "bakhil/pelit tidak masuk surga                                              3\n",
      "HUKUM MEMBACA DO?A DI TENGAH SHOLAT                                         3\n",
      "umur umat islam sampai 1500 tahun                                           3\n",
      "Hukum membaca hadist dengan tartil                                          3\n",
      "HUKUM MENARUH MUSHAF AL-QUR'AN ATAU KITAB DI JOK (BAGASI) MOTOR             3\n",
      "SEJARAH NAMA ISTRI DAN PUTRA PUTRI SAYYIDINA ABU BAKAR ASH-SHIDIQ           3\n",
      "waktu terjadinya lailatul qadr antar negara                                 3\n",
      "Tidak sah menggantikan lafaz pada syahadat                                  3\n",
      "HUKUM SAAT PUASA MENYENTUH KEMALUAN ISTRI                                   3\n",
      "HUKUM JUAL BELI KNALPOT RACING                                              3\n",
      "salah satu pintu surga adalah orang tua                                     3\n",
      "WASHIAT : BATASAN MAKSIMAL WASHIAT                                          3\n",
      "BOLEHKAH SUAMI MENGELUARKAN MANI SAAT BERCUMBU DENGAN ISTRI YANG HAID ?     3\n",
      "Hukum uang jual beli saat khutbah jumat berlangsung                         3\n",
      "KISAH SAYYIDINA UMAR VS MALAIKAT MUNKAR-NAKIR                               3\n",
      "SYARAT-SYARAT ISTRI BOLEH MENGAJUKAN FASAKH NIKAH II                        2\n",
      "membaca hadits menggunakan tajwid                                           2\n",
      "Yang membuat makruh pada shalat yaitu                                       2\n",
      "keluarga: mendahulukan perintah orang tua                                   2\n",
      "HARUSKAH BERNIAT KETIKA MELAKSANAKAN SUNNAH-SUNNAH SHOLAT ?                 2\n",
      "menutup lubang sembilan pada mayit                                          2\n",
      "Thalak tidak harus ada saksi                                                2\n",
      "munakahat: hukum menikahi ibu dari istri yang tidak sah akad nikahnya       2\n",
      "Hukum air wafaq Al-Quran dibuang ke tanah                                   2\n",
      "status hukum kesucian air dalam ember yang dialiri air keran                2\n",
      "apakah makan sahur mencukupi sebagai niat puasa                             2\n",
      "perihal kalimat wa ana minal muslimin dalam doa iftitah sholat              1\n",
      "INILAH RINCIAN HUKUM BEROBAT MENURUT ISLAM                                  1\n",
      "Tiga tahapan ilmu                                                           1\n",
      "Yang membuat makruh pada shalat                                             1\n",
      "Hari terjdinya isra' dan mi'raj                                             1\n",
      "Name: Kategori, dtype: int64\n"
     ]
    }
   ],
   "source": [
    "kategori_total_list = train_df[\"Kategori\"].value_counts()\n",
    "with pd.option_context('display.max_rows', None, 'display.max_columns', None):\n",
    "    print (kategori_total_list)"
   ]
  },
  {
   "cell_type": "markdown",
   "metadata": {},
   "source": [
    "menggabungkan kategori yang memiliki jumlah berita sedikit dengan list kategori lain yang lebih umum dan memiliki jumlah yang sudah banyak."
   ]
  },
  {
   "cell_type": "code",
   "execution_count": 47,
   "metadata": {},
   "outputs": [],
   "source": [
    "kategori = train_df[\"Kategori\"].values"
   ]
  },
  {
   "cell_type": "markdown",
   "metadata": {},
   "source": [
    "Menampilkan kembali hasil kategori setelah di gabungkan"
   ]
  },
  {
   "cell_type": "code",
   "execution_count": 48,
   "metadata": {
    "scrolled": true
   },
   "outputs": [
    {
     "name": "stdout",
     "output_type": "stream",
     "text": [
      "ALASAN BERSUCI DENGAN AIR                                                  13\n",
      "TAFSIR MIMPI MASJID ROBOH                                                   5\n",
      "MAHAR NIKAH BERASAL DARI ORANG LAIN                                         5\n",
      "TAJWID : MAD LAZIM HARFI MUSYABBA?                                          5\n",
      "HUKUM BERQURBAN DENGAN AYAM JAGO                                            4\n",
      "HUKUM LAKI-LAKI MEMAKAI MINYAK ZA?FARON                                     4\n",
      "HUKUM BERBUAT DOSA BAGI ANAK YANG BELUM BALIGH II                           4\n",
      "JIKA MAKMUM KETINGGALAN BACA FATIHAH KARENA IMAM SHOLAT TERLALU CEPAT       4\n",
      "hukum sholat qobliyah shubuh setelah shalat shubuh                          4\n",
      "SHOLAT : HUKUM BACA BASMALAH SAAT AKAN SHOLAT                               4\n",
      "HUKUM MELUDAH KE ARAH KIBLAT                                                4\n",
      "HUKUM JUAL BELI KUCING                                                      4\n",
      "dalil posisi duduk saat zikir ba'da shalat maktubah                         3\n",
      "DALAM NAHWU ADAKAH MUBTADA BERUPA ISIM NAKIROH?                             3\n",
      "Hadist Malaikat Jibril meruqyah Nabi Muhammad SAW                           3\n",
      "Alasan sumpah dengan Al-Ashr                                                3\n",
      "hukum mengumandangkan azan dalam keadaan duduk                              3\n",
      "NAJASAH : BASAH YANG MENAJISKAN                                             3\n",
      "HUKUM MEMBACA SHOLAWAT KETIKA AKAN / SEDANG MAKAN                           3\n",
      "inilah definisi dan ta'rif dosa menurut kitab kuning                        3\n",
      "Jarak 300 hasta 301 masih di tolerir                                        3\n",
      "HUKUM MELAKUKAN HUBUNGAN INTIM PADA MASA MENYUSUI                           3\n",
      "Thoharoh : Perbedaan Thurob dan Ghubar                                      3\n",
      "adakah qoul yang membolehkan qurban setelah hari tasyrik?                   3\n",
      "Jika bernazar melakukan poligami                                            3\n",
      "Alquran adalah Alkitab                                                      3\n",
      "Arwah Muqoddasah                                                            3\n",
      "HUKUM SEMBELIHAN NON MUSLIM                                                 3\n",
      "ASMAUL HUSNA : INILAH PERBEDAAN AL-WAHID DAN AL-AHAD                        3\n",
      "FADHILAH DAN KEUTAMAAN SILATURRAHIM                                         3\n",
      "Hukum makan sampai kekenyangan                                              3\n",
      "PUASA : DUA KEBAHAGIAN BAGI ORANG YANG BERPUASA                             3\n",
      "HUKUM LELAKI MEMAKAI KALUNG TASBIH                                          3\n",
      "HUKUM ISTRI GUGAT CERAI SUAMI YANG DIPENJARA                                3\n",
      "Hukum memberikan THR tapi jadikan Zakat                                     3\n",
      "Perbedaan kalimat Rabb dan Illah                                            3\n",
      "Jika ahli waris tidak ada                                                   3\n",
      "anak tiri bukan ahli waris                                                  3\n",
      "hukum makan daging katak dan buaya                                          3\n",
      "TAFSIR MIMPI MELIHAT LANGIT                                                 3\n",
      "perhitungan pergantian waktu dalam islam                                    3\n",
      "Onani termasuk dosa besar atau kecil                                        3\n",
      "bakhil/pelit tidak masuk surga                                              3\n",
      "HUKUM MEMBACA DO?A DI TENGAH SHOLAT                                         3\n",
      "umur umat islam sampai 1500 tahun                                           3\n",
      "Hukum membaca hadist dengan tartil                                          3\n",
      "HUKUM MENARUH MUSHAF AL-QUR'AN ATAU KITAB DI JOK (BAGASI) MOTOR             3\n",
      "SEJARAH NAMA ISTRI DAN PUTRA PUTRI SAYYIDINA ABU BAKAR ASH-SHIDIQ           3\n",
      "waktu terjadinya lailatul qadr antar negara                                 3\n",
      "Tidak sah menggantikan lafaz pada syahadat                                  3\n",
      "HUKUM SAAT PUASA MENYENTUH KEMALUAN ISTRI                                   3\n",
      "HUKUM JUAL BELI KNALPOT RACING                                              3\n",
      "salah satu pintu surga adalah orang tua                                     3\n",
      "WASHIAT : BATASAN MAKSIMAL WASHIAT                                          3\n",
      "BOLEHKAH SUAMI MENGELUARKAN MANI SAAT BERCUMBU DENGAN ISTRI YANG HAID ?     3\n",
      "Hukum uang jual beli saat khutbah jumat berlangsung                         3\n",
      "KISAH SAYYIDINA UMAR VS MALAIKAT MUNKAR-NAKIR                               3\n",
      "SYARAT-SYARAT ISTRI BOLEH MENGAJUKAN FASAKH NIKAH II                        2\n",
      "membaca hadits menggunakan tajwid                                           2\n",
      "Yang membuat makruh pada shalat yaitu                                       2\n",
      "keluarga: mendahulukan perintah orang tua                                   2\n",
      "HARUSKAH BERNIAT KETIKA MELAKSANAKAN SUNNAH-SUNNAH SHOLAT ?                 2\n",
      "menutup lubang sembilan pada mayit                                          2\n",
      "Thalak tidak harus ada saksi                                                2\n",
      "munakahat: hukum menikahi ibu dari istri yang tidak sah akad nikahnya       2\n",
      "Hukum air wafaq Al-Quran dibuang ke tanah                                   2\n",
      "status hukum kesucian air dalam ember yang dialiri air keran                2\n",
      "apakah makan sahur mencukupi sebagai niat puasa                             2\n",
      "perihal kalimat wa ana minal muslimin dalam doa iftitah sholat              1\n",
      "INILAH RINCIAN HUKUM BEROBAT MENURUT ISLAM                                  1\n",
      "Tiga tahapan ilmu                                                           1\n",
      "Yang membuat makruh pada shalat                                             1\n",
      "Hari terjdinya isra' dan mi'raj                                             1\n",
      "Name: Kategori, dtype: int64\n"
     ]
    }
   ],
   "source": [
    "kategori_total_list = train_df[\"Kategori\"].value_counts()\n",
    "with pd.option_context('display.max_rows', None, 'display.max_columns', None):\n",
    "    print (kategori_total_list)"
   ]
  },
  {
   "cell_type": "markdown",
   "metadata": {},
   "source": [
    "Menampilkan isi laporan"
   ]
  },
  {
   "cell_type": "code",
   "execution_count": 49,
   "metadata": {},
   "outputs": [
    {
     "data": {
      "text/plain": [
       "array(['bagaimana kisah tentang mukasyafah nya sayyidina ali r.a tentang sayyidina umar vs mungkar nakir',\n",
       "       'ceritakan kisah sayyidina umar vs munkar nakir',\n",
       "       'cerita sayyidina umar vs munkar nakir termaktub dari kitab apa?',\n",
       "       'kenapa wudhu menggunakan air?',\n",
       "       'apakah bisa wudhu tidak menggunakan air?',\n",
       "       'kalau tidak ada air bagaimana bisa berwuduhu?', 'wudhu tanpa air',\n",
       "       'mengapa wuduh harus menggunakan air?', 'haruskah wudhu pake air?',\n",
       "       \"kenapa sholat maghrib 3 rokaat. Ashar 4 Zhuhur 4 Subuh 2 roka'at. Kok tidak disamakan saja\",\n",
       "       'mengapa jumlah rakaat sholat beragam',\n",
       "       'mengapa jumlah rakaat sholat berbeda-beda',\n",
       "       'mengapa jumlah rakaat sholat tidak sama',\n",
       "       'kenapa sholat maghrib 3 rakaat',\n",
       "       'mengapa sholat dzuhur ashar dan isya 4 rakaat',\n",
       "       'kenapa sholat subuh 2 rakaat',\n",
       "       'bolehkah mahar nikah berasal dari orang lain?',\n",
       "       'calon suami mendapat sponsor untuk dijadikan mahar nikah seperti pada acara tv',\n",
       "       'apakah mahar harus dari calon suami saja?',\n",
       "       'calon suami memberi mahar nikah dari sponsor',\n",
       "       'calon suami memberi mahar nikah dari pemberian orang lain',\n",
       "       'hukum laki-laki memakai kalung tasbih',\n",
       "       'apakah laki-laki boleh memakai kalung tasbih',\n",
       "       'bolehkah memakai kaling tasbih',\n",
       "       \"apa arti mimipi jika masjid jami' dibongkar\",\n",
       "       \"mengapa mimpi saya masjid jami' dibongkar sehingga sholat jum'at dipindah ke masjid\",\n",
       "       'apa maksud dari mimpi masjid yang roboh',\n",
       "       'tafsirkan mimpi dari mimpi masjid yang roboh',\n",
       "       'tafsir mimpi masjid yang di bongkar',\n",
       "       'apakah boleh bercumbu dengan istri ketika istri sedang haid',\n",
       "       'bercumbu dengan istri selain di sekitar pusar dan lutut',\n",
       "       'apakah boleh mengeluarkan air mani ketika bercumbu dengan istri tanpa jimak',\n",
       "       'Apakah disunahkan bagi makmum membaca lafadz \"Alaihima assalamu\" ketika imam membaca ayat dari surat al-A\\'la yang berbunyi \"Suhufi Ibrohima wa Musa\"',\n",
       "       \"apakah boleh membaca doa ditengah-tengah membaca al-Qur'an saat sholat?\",\n",
       "       'apakah sah sholat jika baca doa di saat membaca surat ditengah-tengah sholat?',\n",
       "       'apakah boleh menjima istri ketika sedang menyusui?',\n",
       "       'apakah akan berpengaruh pada bayi jika menjima istri ketika masa menyusui?',\n",
       "       'bisakah berhubungan dengan istri ketika sedang tahap menyusui bayi?',\n",
       "       'apakah boleh menjual knalpot racing?',\n",
       "       'halalkah menjual knalpot untuk balapan?',\n",
       "       'bagaimana jika menjual knalpot racing atau balapan?',\n",
       "       'apakah boleh berqurban dengan ayam jago?',\n",
       "       'bolehkah qurban selain dengan sapi kambing domba unta?',\n",
       "       'hewan apa yang diperbolehkan untuk qurban?',\n",
       "       'bagaimana jika tidak mampu berqurban dengan kambing domba sapi atau unta?',\n",
       "       \"Hukum mad lazim harfi musyaba' mutsaqqol dan mukhoffaf itu perhuruf dibaca sama panjangnya atau hanya yang termasuk huruf mad lazim harfi musyaba' mutsaqqol saja yang panjang 6 harkat ?\",\n",
       "       \"bagaimana hukum tajwid Mad lazim harfi musyabba'\",\n",
       "       \"bagaimana cara membaca huruf Mad lazim harfi musyabba'\",\n",
       "       'bagaimana hukum tajwid Mad lazim harfi mukhaffaf',\n",
       "       'bagaimana cara membaca huruf Mad lazim harfi mukhaffaf',\n",
       "       'jika baju atau tangan basah kena najis kering apakah ikut kena najis juga atau tidak?',\n",
       "       'batasan mana yang dapat menularkan najis?',\n",
       "       'apakah lembab atau basah karena keringat dapat menularkan najis?',\n",
       "       'apakah ketika melaksanakan sunnah di tengah sholat harus diniatkan?',\n",
       "       'jika melakukan sunnah saat sholat haruskah diniatkan dalam hati?',\n",
       "       'apakah sebelum sholat harus membaca bismillah?',\n",
       "       'apakah sebelum sholat harus membaca basmalah?',\n",
       "       'bagaimana hukum membaca bismillah/basmalah sebelum sholat?',\n",
       "       'kenapa membaca bismillah sebelum sholat tidak di sunnahkan?',\n",
       "       'jika imam sholat terlalu cepat hingga ketinggalan rukuknya apakah mendapat rokaat imam?',\n",
       "       'makmum ketinggalan rukuknya imam yang terlalu cepat',\n",
       "       \"berapa batasan makmum mendapat rokaat sholat jama'ah\",\n",
       "       'bagaimana jika belum selesai membaca al-fatihah namun imam sudah rukuk',\n",
       "       'berapa batasan washiat?', 'berapa batasan wasiat',\n",
       "       'bagaimana hukum pembagian wasiat',\n",
       "       'Siapakah istrinya sayyidina Abu Bakar Ash-Shidiq RA dan para putranya',\n",
       "       'siapa saja istri Abu Bakar Ash-Shidiq RA',\n",
       "       'siapa saja anak Abu Bakar Ash-Shidiq RA',\n",
       "       'bagaimana hadits tentang meludah kearah kiblat',\n",
       "       'bagaimana hukumnya meludah ke arah kiblat',\n",
       "       'apakah benar hadits tentang meludah ke arah kiblat',\n",
       "       'jika meludah kearah kiblat maka ludah tersebut akan menempel di muka saat hari kiamat apakah hadits tersebut benar',\n",
       "       'bagaimana hukum jual beli kucing', 'apakah boleh membeli kucing',\n",
       "       'apakah boleh menjual kucing',\n",
       "       'apakah boleh membeli kucing rumahan',\n",
       "       'apakah boleh menaruh alquran di jok motor',\n",
       "       \"jika hujan lalu menaruh mushaf al-qur'an di jok motor\",\n",
       "       \"dalam keadaan darurat apakah boleh menyimpan al-qur'an di jok motor\",\n",
       "       'apakah boleh memakan daging dari sembelihan orang non muslim',\n",
       "       'bagaimana hukum menyembelih hewan',\n",
       "       'hukum memakan daging dari sembelihan orang non-muslim',\n",
       "       'apakah boleh istri menggugat cerai suami yang di penjara',\n",
       "       'bagaimana hukumnya jika istri menggugat cerai suami yang sedang di penjara',\n",
       "       'batas waktu istri diperbolehkan menggugat cerai suami jika suami tidak memberi nafkah',\n",
       "       'apa arti mimpi melihat langit',\n",
       "       'bagaimana tafsir mimpi melihat langit',\n",
       "       'jika bermimpi melihat langit apa artinya?',\n",
       "       'bagaimana hukum dan kedudukan anak tiri dalam hak waris',\n",
       "       'apakah anak tiri tergolong ahli waris',\n",
       "       'kenapa anak tiri tidak tergolong ahli waris',\n",
       "       'bagaimana hukum penggunaan kapas pada lubang 9 pada mayat',\n",
       "       'dimana saja penggunaan kapas pada lubang 9 pada mayat',\n",
       "       'bagaimana hukum membaca hadits menggunakan tajwid',\n",
       "       'apakah boleh membaca hadits dengan tajwid',\n",
       "       'apakah tidak apa-apa jika mengerjakan sholat qobliyah shubuh setelah sholat fardhu',\n",
       "       'kapan waktu yang tepat melaksanakan sholat qobliyah shubuh',\n",
       "       'bagaimana hukum sholat qobliyah shubuh setelah shalat shubuh',\n",
       "       \"apakah ada ta'bir yang memperbolehkan mengqodho' sholat sunnah fajar dikerjakan ba'da sholat subuh\",\n",
       "       'dalam doa iftitah mengapa kita membaca ?wabizdalika umirtu wa ana minal muslimin? bukan ?wa bidzalika umirtu wa ana awalul muslimin?',\n",
       "       'semisal ibu mengajak saya untuk mengantarkannya berbelanja sedangkan waktu shalat wajib 10 menit lagi apa yang harus saya lakukan?',\n",
       "       'apakah boleh saya mendahulukan sholat daripada perintah orang tua?',\n",
       "       'buaya dan kodok apakah semuanya haram atau bagaimana',\n",
       "       'bagaimana hukum makan katak dan buaya',\n",
       "       'kenapa kita ga boleh makan katak dan buaya',\n",
       "       'bagaimana jika telah sahur tapi belum pasang niat puasa ramadhan',\n",
       "       'apakah sahur saja sudah mewakili niat berpuasa',\n",
       "       'bagaimana kalau kasusnya pernikahan yang dasarnya saja sudah tidak sah (cacat) seperti contoh menikah dengan wanita non muslim (harby) tapi kemudian cerai lalu si ibu mertua muallaf lalu menantu tadi menyukai dan menikahi mertuanya sendiri?',\n",
       "       'apakah hukum menikahi ibu dari istri yang tidak sah akad nikahnya',\n",
       "       'qurban setelah hari tasyrik',\n",
       "       'qaul yang membolehkan menyembelih qurban keluar dari hari nahr dan hari tasyriq',\n",
       "       'waktu yang diperbolehkan untuk menyembelih qurban',\n",
       "       'bagaimana hukum kesucian air dalam ember yang dialiri air keran',\n",
       "       'wudhu dengan air dalam ember yang dijadikan bak yang mengocor dari keran',\n",
       "       'bagaimana hukum mengumandangkan azan dalam keadaan duduk',\n",
       "       'bolehkah mengumandangkan azan sambil duduk',\n",
       "       'mengapa muazin selalu berdiri saat mengumandangkan azan',\n",
       "       'apa itu dosa', 'pengertian dosa',\n",
       "       \"definisi dan ta'rif dosa menurut kitab kuning\",\n",
       "       'apakah ada batasan umur anak yang wajib dikontrol oleh ortunya',\n",
       "       'kriteria anak yang wajib dikontrol oleh ortunya',\n",
       "       'apakah dosa anak yang belum baligh maupun sudah baligh ditanggung oleh ortunya',\n",
       "       'kewajiban orang tua mendidik anak sebelum baligh',\n",
       "       \"apakah dalam syar'i diperbolehkan seorang ayah membawa kembali anak wanita dari suaminya\",\n",
       "       'solusi jika melihat anak wanita didzolimi oleh suaminya',\n",
       "       'hukum membaca sholawat ketika akan makan',\n",
       "       'hukum membaca sholawat ketika saat makan',\n",
       "       \"membaca sholawat ketika akan/saat makan termasuk bid'ah\",\n",
       "       'cara pembuatan mubtada dari isim nakirah',\n",
       "       'apakah boleh menggunakan mubtada dengan isim nakirah',\n",
       "       'adakah mubtada berupa isim nakirah',\n",
       "       'bagaimanakah bunyi hadits dari : ?Dua kebahagiaan bagi orang yang shaum?',\n",
       "       'apa saja kebahagiaan bagi orang yang berpuasa',\n",
       "       'kebahagiaan berpuasa', 'hukum berobat dalam islam',\n",
       "       'apa beda thurob dan ghubar', 'perbedaan thurob dan ghubar',\n",
       "       'thurob dan ghubar', 'silaturrahmi',\n",
       "       'fadhilah dan keutamaan silaturrahmi',\n",
       "       'silaturrahmi kunci pembuka rizki',\n",
       "       'bagaimana hukum menyentuh kemaluan istri saat berpuasa',\n",
       "       'apakah boleh saat berpuasa menyentuh kemaluan istri',\n",
       "       'menyentuh kemaluan istri saat berpuasa', \"makna za'faron\",\n",
       "       \"apa itu za'faron\", \"bagaimana hukum laki-laki memakai za'faron\",\n",
       "       \"apakah boleh laki-laki memakai za'faron\",\n",
       "       'apakah perbedaan al-wahid dan al-ahad',\n",
       "       'beda antara al-wahid dan al-ahad', 'al-wahid dan al-ahad',\n",
       "       'Apakah thalak harus ada saksi?',\n",
       "       'Apakah boleh melakukan thalak dengan adanya saksi?',\n",
       "       'Kenapa Al-quran disebutkan sebagai Al kitab?',\n",
       "       'Apakah Alkitab sama dengan Al-quran?',\n",
       "       'Apa bedanya Alquran dan Alkitab?',\n",
       "       'Apakah hukum menggantikan lafaz Muhammad dengan Ahmad pada syahadat pada muallaf',\n",
       "       'Bagaimana jika mengubah kata Muhammad menjadi Ahmad pada syahadat?',\n",
       "       'Apakah boleh menggantikan Lafaz Muhammad dengan Ahmad pada syahadat?',\n",
       "       'Berapakah jarak antara Imam dan Makmum ketika shalat?',\n",
       "       'Apakah boleh jarak antara imam dan makmum lebih sedikit dengan yg sudah ditentukan?',\n",
       "       'Apakah harus ada jarak antara Imam dan makmum ketika shalat?',\n",
       "       'Apa saja yang membuat makruh ketika shalat?',\n",
       "       'Apakah boleh shalat dengan meminta agar harta selalu terjaga',\n",
       "       'Adakah hal yang membuat makruh ketika shalat?',\n",
       "       'Apa yang dimaksud dengan bakhil?',\n",
       "       'Salah satu sifat yang membuat manusia tidak masuk surga',\n",
       "       'Apakah hukuman bagi orang yang bakhil atau pelit dalam mengeluarkan zakat atau sedekah',\n",
       "       'Apakah wajib memperhatikan tata cara zikir ketika selesai shalat?',\n",
       "       \"Bagaimana posisi yang baik ketika ingin membacakan dzikir ba'da shalat?\",\n",
       "       \"Apakah boleh zikir ba'da shalat tanpa mempelajari posisi duduk saat zikir?\",\n",
       "       'Apa bedanya antara kalimat Rabb dan Illah?',\n",
       "       'Apakah Rabb dan Illah itu sama?',\n",
       "       'Bagaimana membedakan antara Rabb dan Illah?',\n",
       "       'Apakah pernah malaikat Jibril meruqyah Nabi Muhammad SAW akibat terkena sihir?',\n",
       "       'Malaikat apa yang meruqyah nabi Muhamad SAW ketika terkena sihir?',\n",
       "       'Apa yang menyebabkan malaikat jibril sampai meruqyah Nabi Muhammad SAW?',\n",
       "       'Kepada siapakah ahli waris diberikan jika pemilik tidak memiliki keluarga?',\n",
       "       'Apakah boleh anak tiri mendapatkan ahli waris ?',\n",
       "       'Bagaimana pembagian waris jika yang ttersisa hanya anak tiri',\n",
       "       'Bolehkan jika thr dijadikan zakat?',\n",
       "       'Bagaimana yang dikatakan sudah mencukupi (sah) sebagai zakat?',\n",
       "       'Apakah disebut zakat jika memberikannya pada sesama orang kaya?',\n",
       "       'Apakah hukum membaca hadist secara tartil?',\n",
       "       'Apakah yang dimaksud tajwid pada membaca hadist?',\n",
       "       'Apakah wajib membaca hadist dengan menggunakan tajwid?',\n",
       "       'Apakah yang dimaksud dengan Al-arwah almuqoddasah?',\n",
       "       'Apakah orang-orang yang beramal shaleh disebut sebagai arwah muqoddasah?',\n",
       "       'Siapa sajakah yang disebut dengan Arwah Muqoddasah?',\n",
       "       'kenapa Allah bersumpah dengan kata demi masa?',\n",
       "       'Surah apa yang berkaitan dengan demi masa sumpahnya Allah ?',\n",
       "       'Apakah yang dimaksud orang yang merugi pada surah Al-Ashr?',\n",
       "       'Apakah hukum bagi orang yang bernazar poligami?',\n",
       "       'Apakah boleh seorang wanita muslim melakukan poliandri?',\n",
       "       'Apakah bernazar poligami termasuk perbuatan maksiat(kedurhakaan)?',\n",
       "       'Apakah hukum bagi orang yang melakukan onani?',\n",
       "       'Apa saja ciri-ciri orang yang tidak di rahmati Allah yaitu orang-orang yang masuk kedalam neraka',\n",
       "       'Apakah dosa besar bagi orang yang melakukan onani?',\n",
       "       'Bagaimanakah perhitungan pergantian waktu hari jumat dalam islam',\n",
       "       'Bagaimanakah pengertian awal bulan pada perhtiungan dalam islam?',\n",
       "       'Kapan disebut malam jumat pada perhitungan waktu dalam islam?',\n",
       "       'Apa saja tahapan-tahapan ilmu yg dimiliki seseorang?',\n",
       "       'Apakah perbedaan waktu tiap negara mempengaruhi turunnya malam lailatul qadr?',\n",
       "       'Bagaimanakah cara mengetahui turunnya lailatul qadr antar negara?',\n",
       "       'Apakah malam lailatul qadr terjadi dua kali?',\n",
       "       'Dengan cara apa agar kita dapat salah satu pintu surga?',\n",
       "       'Bagaimanakah cara agar kita dapat memproleh pintu surga?',\n",
       "       'Apakah berbakti kepada orang tua kita akan memperoleh salah satu pintu surga?',\n",
       "       'Bagaimanakah hukum air wafaq alquran dibuang ke tanah?',\n",
       "       'Apakah itu air wafaq?', \"Kapankah terjadi nya hari isra' mi'raj?\",\n",
       "       'sampai Kapan kah umur umat Islam akan bertahan?',\n",
       "       'Apakah benar umur umat Islam sampai 1500 tahun?',\n",
       "       'Apakah benar tafsiran hidup dunia kadarnya perhari adalah 50 ribu tahun?',\n",
       "       'Bagaimanakah hukum transaksi jual beli ketika khutbah jumat berlangsung?',\n",
       "       'Bagaimanakah hukum menjual pulsa yang mana pulsa tersebut digunakan untuk hal yang tidak bermanfaat(misal: telpon pacar)',\n",
       "       'Bagaimanakah hukum hasil uang penjualan ketika khutbah jumat berlangsung',\n",
       "       'Bagaimana hukum makan sampai kekenyangan?',\n",
       "       'Apa boleh makan sampai kekenyangan?',\n",
       "       'Apakah ada hal lain yang memperbolehkan makan sampai kekenyangan?'],\n",
       "      dtype=object)"
      ]
     },
     "execution_count": 49,
     "metadata": {},
     "output_type": "execute_result"
    }
   ],
   "source": [
    "pertanyaan = train_df[\"pertanyaan\"].values\n",
    "pertanyaan"
   ]
  },
  {
   "cell_type": "markdown",
   "metadata": {},
   "source": [
    "Mendapatkan word embedding dari database glove"
   ]
  },
  {
   "cell_type": "code",
   "execution_count": 50,
   "metadata": {
    "scrolled": true
   },
   "outputs": [
    {
     "name": "stderr",
     "output_type": "stream",
     "text": [
      "100%|████████████████████████████████████████████████████████████████████████████████| 222/222 [00:14<00:00, 13.32it/s]\n"
     ]
    }
   ],
   "source": [
    "def getWordEmbedding(word, cursor):\n",
    "#     word = word.replace(\"'\", \"''\")\n",
    "    sql = \"\"\"select vec from term where term like %s\"\"\"\n",
    "    cursor.execute(sql, (str(word),))\n",
    "    data = cursor.fetchall()\n",
    "    if len(data) > 0:\n",
    "        decoded_vec = json.JSONDecoder().decode(data[0][0])\n",
    "        vec = np.asarray(decoded_vec, dtype=np.float32)\n",
    "        return True, vec\n",
    "    else:\n",
    "        return False, data\n",
    "    \n",
    "def myTokenizer(content, lower=True):\n",
    "    raw = content.split(' ')\n",
    "    remover = re.compile(\"[^a-zA-Z-]\")\n",
    "    \n",
    "    token = []\n",
    "    \n",
    "    for i in raw:\n",
    "        term = remover.sub('', i)\n",
    "        if lower == True:\n",
    "            term = term.lower()\n",
    "        token.append(term)\n",
    "#     tokenized = filter(None, token)\n",
    "    \n",
    "#     return tokenized\n",
    "    return token\n",
    "\n",
    "def sentenceToVec(string):\n",
    "\n",
    "    if type(string) is not str:\n",
    "        return np.zeros((300,), dtype=float)\n",
    "   \n",
    "    string = string.replace('\\n', '')\n",
    "    string = np.array(myTokenizer(string))\n",
    "#     print(string)\n",
    "    feature = None\n",
    "    begin = True\n",
    "    for word in string:\n",
    "        stat, vec = getWordEmbedding(word, cursor)\n",
    "        if not stat:\n",
    "            continue\n",
    "        if begin:\n",
    "            begin = False\n",
    "            feature = vec\n",
    "        else:\n",
    "            feature += vec\n",
    "#             feature = np.concatenate([feature, vec])\n",
    "#     print('running') \n",
    "    if feature is not None:\n",
    "        feature = feature/np.linalg.norm(feature)\n",
    "    else:\n",
    "        feature = np.zeros((300,), dtype=float)\n",
    "    \n",
    "    return feature\n",
    "\n",
    "import re\n",
    "import json\n",
    "import unicodedata\n",
    "import mysql.connector\n",
    "from tqdm import tqdm\n",
    "\n",
    "db = mysql.connector.connect(user=\"root\", password='', database=\"glove\")\n",
    "cursor = db.cursor(buffered=True)\n",
    "\n",
    "pbar = tqdm(total=len(pertanyaan))\n",
    "ftr = []\n",
    "for i in pertanyaan:\n",
    "    try:\n",
    "        ftr.append(sentenceToVec(i))\n",
    "    except Exception as err:\n",
    "        print (err)\n",
    "        print (i)\n",
    "        break\n",
    "    pbar.update(1)\n",
    "pbar.close()\n",
    "ftr = np.array(ftr)"
   ]
  },
  {
   "cell_type": "code",
   "execution_count": 51,
   "metadata": {},
   "outputs": [],
   "source": [
    "nan_idx = []\n",
    "for i in range(len(kategori)):\n",
    "    if kategori[i] is np.nan:\n",
    "        nan_idx.append(i)\n",
    "kategori_c = np.delete(kategori, nan_idx)\n",
    "ftr_c = np.delete(ftr, nan_idx, 0)"
   ]
  },
  {
   "cell_type": "code",
   "execution_count": 52,
   "metadata": {},
   "outputs": [
    {
     "name": "stdout",
     "output_type": "stream",
     "text": [
      "Mengecek array size dari fitur dan kelas...\n",
      "size of ftr (222, 300)\n",
      "size of cls (222, 73)\n"
     ]
    }
   ],
   "source": [
    "cls = []\n",
    "kategori_u = pd.unique(kategori_c)\n",
    "kategori_u = kategori_u.tolist()\n",
    "for i in range(len(kategori_c)):\n",
    "    one_hot = np.zeros((len(kategori_u),), dtype=int)\n",
    "    idx = kategori_u.index(kategori_c[i])\n",
    "    one_hot[idx] = 1\n",
    "    cls.append(one_hot)\n",
    "cls = np.array(cls)\n",
    "\n",
    "print (\"Mengecek array size dari fitur dan kelas...\")\n",
    "print (\"size of ftr \" + str(ftr_c.shape))\n",
    "print (\"size of cls \" + str(cls.shape))"
   ]
  },
  {
   "cell_type": "code",
   "execution_count": 53,
   "metadata": {},
   "outputs": [],
   "source": [
    "np.save(data_path + \"ftr-data-source.npy\", ftr_c)\n",
    "np.save(data_path + \"cls-data-source.npy\", cls)"
   ]
  },
  {
   "cell_type": "markdown",
   "metadata": {},
   "source": [
    "## SMOTE\n",
    "Source Dataset ternyata tidak imbang antara satu kelas dan kelas lainnya. Maka, digunakan algoritma **SMOTE** untuk membuat jumlah data dan setiap kelasnya imbang (*balanced*)."
   ]
  },
  {
   "cell_type": "code",
   "execution_count": 54,
   "metadata": {},
   "outputs": [],
   "source": [
    "ftr = np.load(data_path + \"ftr-data-source.npy\")\n",
    "cls = np.load(data_path + \"cls-data-source.npy\")"
   ]
  },
  {
   "cell_type": "code",
   "execution_count": 55,
   "metadata": {},
   "outputs": [
    {
     "name": "stdout",
     "output_type": "stream",
     "text": [
      "[ 0  1  2  3  4  5  6  7  8  9 10 11 12 13 14 15 16 17 18 19 20 21 22 23\n",
      " 24 25 26 27 28 29 30 31 32 33 34 35 36 37 38 39 40 41 42 43 44 45 46 47\n",
      " 48 49 50 51 52 53 54 55 56 57 58 59 60 61 62 63 64 65 66 67 68 69 70 71\n",
      " 72]\n"
     ]
    }
   ],
   "source": [
    "indexed_cls = list(map(lambda x: np.argmax(x), cls))\n",
    "print(pd.unique(indexed_cls))"
   ]
  },
  {
   "cell_type": "code",
   "execution_count": 56,
   "metadata": {},
   "outputs": [],
   "source": [
    "def valuesCount(arr):\n",
    "    cls_dict = {}\n",
    "    for i in arr:\n",
    "        if i in cls_dict:\n",
    "            cls_dict[i] += 1\n",
    "        else:\n",
    "            cls_dict[i] = 1\n",
    "    return cls_dict"
   ]
  },
  {
   "cell_type": "code",
   "execution_count": 57,
   "metadata": {
    "scrolled": true
   },
   "outputs": [
    {
     "data": {
      "text/plain": [
       "{0: 3,\n",
       " 1: 13,\n",
       " 2: 5,\n",
       " 3: 3,\n",
       " 4: 5,\n",
       " 5: 3,\n",
       " 6: 3,\n",
       " 7: 3,\n",
       " 8: 3,\n",
       " 9: 4,\n",
       " 10: 5,\n",
       " 11: 3,\n",
       " 12: 2,\n",
       " 13: 4,\n",
       " 14: 4,\n",
       " 15: 3,\n",
       " 16: 3,\n",
       " 17: 4,\n",
       " 18: 4,\n",
       " 19: 3,\n",
       " 20: 3,\n",
       " 21: 3,\n",
       " 22: 3,\n",
       " 23: 3,\n",
       " 24: 2,\n",
       " 25: 2,\n",
       " 26: 4,\n",
       " 27: 1,\n",
       " 28: 2,\n",
       " 29: 3,\n",
       " 30: 2,\n",
       " 31: 2,\n",
       " 32: 3,\n",
       " 33: 2,\n",
       " 34: 3,\n",
       " 35: 3,\n",
       " 36: 4,\n",
       " 37: 2,\n",
       " 38: 3,\n",
       " 39: 3,\n",
       " 40: 3,\n",
       " 41: 1,\n",
       " 42: 3,\n",
       " 43: 3,\n",
       " 44: 3,\n",
       " 45: 4,\n",
       " 46: 3,\n",
       " 47: 2,\n",
       " 48: 3,\n",
       " 49: 3,\n",
       " 50: 3,\n",
       " 51: 1,\n",
       " 52: 2,\n",
       " 53: 3,\n",
       " 54: 3,\n",
       " 55: 3,\n",
       " 56: 3,\n",
       " 57: 3,\n",
       " 58: 3,\n",
       " 59: 3,\n",
       " 60: 3,\n",
       " 61: 3,\n",
       " 62: 3,\n",
       " 63: 3,\n",
       " 64: 3,\n",
       " 65: 1,\n",
       " 66: 3,\n",
       " 67: 3,\n",
       " 68: 2,\n",
       " 69: 1,\n",
       " 70: 3,\n",
       " 71: 3,\n",
       " 72: 3}"
      ]
     },
     "execution_count": 57,
     "metadata": {},
     "output_type": "execute_result"
    }
   ],
   "source": [
    "valuesCount(indexed_cls)"
   ]
  },
  {
   "cell_type": "code",
   "execution_count": 58,
   "metadata": {},
   "outputs": [
    {
     "ename": "ValueError",
     "evalue": "Expected n_neighbors <= n_samples,  but n_samples = 3, n_neighbors = 6",
     "output_type": "error",
     "traceback": [
      "\u001b[1;31m---------------------------------------------------------------------------\u001b[0m",
      "\u001b[1;31mValueError\u001b[0m                                Traceback (most recent call last)",
      "\u001b[1;32m<ipython-input-58-f7d22b1fc30d>\u001b[0m in \u001b[0;36m<module>\u001b[1;34m()\u001b[0m\n\u001b[0;32m      2\u001b[0m \u001b[1;33m\u001b[0m\u001b[0m\n\u001b[0;32m      3\u001b[0m \u001b[0msm\u001b[0m \u001b[1;33m=\u001b[0m \u001b[0mSMOTE\u001b[0m\u001b[1;33m(\u001b[0m\u001b[0mrandom_state\u001b[0m\u001b[1;33m=\u001b[0m\u001b[1;36m42\u001b[0m\u001b[1;33m)\u001b[0m\u001b[1;33m\u001b[0m\u001b[0m\n\u001b[1;32m----> 4\u001b[1;33m \u001b[0mftr_res\u001b[0m\u001b[1;33m,\u001b[0m \u001b[0mcls_res\u001b[0m \u001b[1;33m=\u001b[0m \u001b[0msm\u001b[0m\u001b[1;33m.\u001b[0m\u001b[0mfit_sample\u001b[0m\u001b[1;33m(\u001b[0m\u001b[0mftr\u001b[0m\u001b[1;33m,\u001b[0m \u001b[0mindexed_cls\u001b[0m\u001b[1;33m)\u001b[0m\u001b[1;33m\u001b[0m\u001b[0m\n\u001b[0m",
      "\u001b[1;32m~\\Anaconda3\\lib\\site-packages\\imblearn\\base.py\u001b[0m in \u001b[0;36mfit_resample\u001b[1;34m(self, X, y)\u001b[0m\n\u001b[0;32m     83\u001b[0m             self.sampling_strategy, y, self._sampling_type)\n\u001b[0;32m     84\u001b[0m \u001b[1;33m\u001b[0m\u001b[0m\n\u001b[1;32m---> 85\u001b[1;33m         \u001b[0moutput\u001b[0m \u001b[1;33m=\u001b[0m \u001b[0mself\u001b[0m\u001b[1;33m.\u001b[0m\u001b[0m_fit_resample\u001b[0m\u001b[1;33m(\u001b[0m\u001b[0mX\u001b[0m\u001b[1;33m,\u001b[0m \u001b[0my\u001b[0m\u001b[1;33m)\u001b[0m\u001b[1;33m\u001b[0m\u001b[0m\n\u001b[0m\u001b[0;32m     86\u001b[0m \u001b[1;33m\u001b[0m\u001b[0m\n\u001b[0;32m     87\u001b[0m         \u001b[1;32mif\u001b[0m \u001b[0mbinarize_y\u001b[0m\u001b[1;33m:\u001b[0m\u001b[1;33m\u001b[0m\u001b[0m\n",
      "\u001b[1;32m~\\Anaconda3\\lib\\site-packages\\imblearn\\over_sampling\\_smote.py\u001b[0m in \u001b[0;36m_fit_resample\u001b[1;34m(self, X, y)\u001b[0m\n\u001b[0;32m    794\u001b[0m     \u001b[1;32mdef\u001b[0m \u001b[0m_fit_resample\u001b[0m\u001b[1;33m(\u001b[0m\u001b[0mself\u001b[0m\u001b[1;33m,\u001b[0m \u001b[0mX\u001b[0m\u001b[1;33m,\u001b[0m \u001b[0my\u001b[0m\u001b[1;33m)\u001b[0m\u001b[1;33m:\u001b[0m\u001b[1;33m\u001b[0m\u001b[0m\n\u001b[0;32m    795\u001b[0m         \u001b[0mself\u001b[0m\u001b[1;33m.\u001b[0m\u001b[0m_validate_estimator\u001b[0m\u001b[1;33m(\u001b[0m\u001b[1;33m)\u001b[0m\u001b[1;33m\u001b[0m\u001b[0m\n\u001b[1;32m--> 796\u001b[1;33m         \u001b[1;32mreturn\u001b[0m \u001b[0mself\u001b[0m\u001b[1;33m.\u001b[0m\u001b[0m_sample\u001b[0m\u001b[1;33m(\u001b[0m\u001b[0mX\u001b[0m\u001b[1;33m,\u001b[0m \u001b[0my\u001b[0m\u001b[1;33m)\u001b[0m\u001b[1;33m\u001b[0m\u001b[0m\n\u001b[0m\u001b[0;32m    797\u001b[0m \u001b[1;33m\u001b[0m\u001b[0m\n\u001b[0;32m    798\u001b[0m     \u001b[1;32mdef\u001b[0m \u001b[0m_sample\u001b[0m\u001b[1;33m(\u001b[0m\u001b[0mself\u001b[0m\u001b[1;33m,\u001b[0m \u001b[0mX\u001b[0m\u001b[1;33m,\u001b[0m \u001b[0my\u001b[0m\u001b[1;33m)\u001b[0m\u001b[1;33m:\u001b[0m\u001b[1;33m\u001b[0m\u001b[0m\n",
      "\u001b[1;32m~\\Anaconda3\\lib\\site-packages\\imblearn\\over_sampling\\_smote.py\u001b[0m in \u001b[0;36m_sample\u001b[1;34m(self, X, y)\u001b[0m\n\u001b[0;32m    810\u001b[0m \u001b[1;33m\u001b[0m\u001b[0m\n\u001b[0;32m    811\u001b[0m             \u001b[0mself\u001b[0m\u001b[1;33m.\u001b[0m\u001b[0mnn_k_\u001b[0m\u001b[1;33m.\u001b[0m\u001b[0mfit\u001b[0m\u001b[1;33m(\u001b[0m\u001b[0mX_class\u001b[0m\u001b[1;33m)\u001b[0m\u001b[1;33m\u001b[0m\u001b[0m\n\u001b[1;32m--> 812\u001b[1;33m             \u001b[0mnns\u001b[0m \u001b[1;33m=\u001b[0m \u001b[0mself\u001b[0m\u001b[1;33m.\u001b[0m\u001b[0mnn_k_\u001b[0m\u001b[1;33m.\u001b[0m\u001b[0mkneighbors\u001b[0m\u001b[1;33m(\u001b[0m\u001b[0mX_class\u001b[0m\u001b[1;33m,\u001b[0m \u001b[0mreturn_distance\u001b[0m\u001b[1;33m=\u001b[0m\u001b[1;32mFalse\u001b[0m\u001b[1;33m)\u001b[0m\u001b[1;33m[\u001b[0m\u001b[1;33m:\u001b[0m\u001b[1;33m,\u001b[0m \u001b[1;36m1\u001b[0m\u001b[1;33m:\u001b[0m\u001b[1;33m]\u001b[0m\u001b[1;33m\u001b[0m\u001b[0m\n\u001b[0m\u001b[0;32m    813\u001b[0m             X_new, y_new = self._make_samples(X_class, y.dtype, class_sample,\n\u001b[0;32m    814\u001b[0m                                               X_class, nns, n_samples, 1.0)\n",
      "\u001b[1;32m~\\Anaconda3\\lib\\site-packages\\sklearn\\neighbors\\base.py\u001b[0m in \u001b[0;36mkneighbors\u001b[1;34m(self, X, n_neighbors, return_distance)\u001b[0m\n\u001b[0;32m    404\u001b[0m                 \u001b[1;34m\"Expected n_neighbors <= n_samples, \"\u001b[0m\u001b[1;33m\u001b[0m\u001b[0m\n\u001b[0;32m    405\u001b[0m                 \u001b[1;34m\" but n_samples = %d, n_neighbors = %d\"\u001b[0m \u001b[1;33m%\u001b[0m\u001b[1;33m\u001b[0m\u001b[0m\n\u001b[1;32m--> 406\u001b[1;33m                 \u001b[1;33m(\u001b[0m\u001b[0mtrain_size\u001b[0m\u001b[1;33m,\u001b[0m \u001b[0mn_neighbors\u001b[0m\u001b[1;33m)\u001b[0m\u001b[1;33m\u001b[0m\u001b[0m\n\u001b[0m\u001b[0;32m    407\u001b[0m             )\n\u001b[0;32m    408\u001b[0m         \u001b[0mn_samples\u001b[0m\u001b[1;33m,\u001b[0m \u001b[0m_\u001b[0m \u001b[1;33m=\u001b[0m \u001b[0mX\u001b[0m\u001b[1;33m.\u001b[0m\u001b[0mshape\u001b[0m\u001b[1;33m\u001b[0m\u001b[0m\n",
      "\u001b[1;31mValueError\u001b[0m: Expected n_neighbors <= n_samples,  but n_samples = 3, n_neighbors = 6"
     ]
    }
   ],
   "source": [
    "from imblearn.over_sampling import SMOTE\n",
    "\n",
    "sm = SMOTE(random_state=42)\n",
    "ftr_res, cls_res = sm.fit_sample(ftr, indexed_cls)"
   ]
  },
  {
   "cell_type": "code",
   "execution_count": 59,
   "metadata": {
    "scrolled": true
   },
   "outputs": [
    {
     "ename": "NameError",
     "evalue": "name 'cls_res' is not defined",
     "output_type": "error",
     "traceback": [
      "\u001b[1;31m---------------------------------------------------------------------------\u001b[0m",
      "\u001b[1;31mNameError\u001b[0m                                 Traceback (most recent call last)",
      "\u001b[1;32m<ipython-input-59-0dc0b958eed6>\u001b[0m in \u001b[0;36m<module>\u001b[1;34m()\u001b[0m\n\u001b[1;32m----> 1\u001b[1;33m \u001b[0mvaluesCount\u001b[0m\u001b[1;33m(\u001b[0m\u001b[0mcls_res\u001b[0m\u001b[1;33m)\u001b[0m\u001b[1;33m\u001b[0m\u001b[0m\n\u001b[0m",
      "\u001b[1;31mNameError\u001b[0m: name 'cls_res' is not defined"
     ]
    }
   ],
   "source": [
    "valuesCount(cls_res)"
   ]
  },
  {
   "cell_type": "code",
   "execution_count": 60,
   "metadata": {},
   "outputs": [],
   "source": [
    "def convToOneHot(arr):\n",
    "    total_cls = len(pd.unique(arr))\n",
    "    cls = []\n",
    "    for i in arr:\n",
    "        temp_vec = np.zeros((total_cls,), dtype=int)\n",
    "        temp_vec[i] = 1\n",
    "        cls.append(temp_vec)\n",
    "    cls = np.array(cls)\n",
    "    return cls"
   ]
  },
  {
   "cell_type": "code",
   "execution_count": 61,
   "metadata": {},
   "outputs": [
    {
     "ename": "SyntaxError",
     "evalue": "unexpected EOF while parsing (<ipython-input-61-4a6b73fc7202>, line 2)",
     "output_type": "error",
     "traceback": [
      "\u001b[1;36m  File \u001b[1;32m\"<ipython-input-61-4a6b73fc7202>\"\u001b[1;36m, line \u001b[1;32m2\u001b[0m\n\u001b[1;33m    print (\"Panjang array kelas seletah convToOneHot: \" + str(len(cls_fin[0]))\u001b[0m\n\u001b[1;37m                                                                              ^\u001b[0m\n\u001b[1;31mSyntaxError\u001b[0m\u001b[1;31m:\u001b[0m unexpected EOF while parsing\n"
     ]
    }
   ],
   "source": [
    "cls_fin = convToOneHot(cls_res)\n",
    "print (\"Panjang array kelas seletah convToOneHot: \" + str(len(cls_fin[0]))"
   ]
  },
  {
   "cell_type": "code",
   "execution_count": 39,
   "metadata": {},
   "outputs": [
    {
     "ename": "NameError",
     "evalue": "name 'ftr_res' is not defined",
     "output_type": "error",
     "traceback": [
      "\u001b[1;31m---------------------------------------------------------------------------\u001b[0m",
      "\u001b[1;31mNameError\u001b[0m                                 Traceback (most recent call last)",
      "\u001b[1;32m<ipython-input-39-92a3c6f7ad26>\u001b[0m in \u001b[0;36m<module>\u001b[1;34m\u001b[0m\n\u001b[1;32m----> 1\u001b[1;33m \u001b[0mnp\u001b[0m\u001b[1;33m.\u001b[0m\u001b[0msave\u001b[0m\u001b[1;33m(\u001b[0m\u001b[0mdata_path\u001b[0m \u001b[1;33m+\u001b[0m \u001b[1;34m\"ftr_data_source_balanced.npy\"\u001b[0m\u001b[1;33m,\u001b[0m \u001b[0mftr_res\u001b[0m\u001b[1;33m)\u001b[0m\u001b[1;33m\u001b[0m\u001b[0m\n\u001b[0m\u001b[0;32m      2\u001b[0m \u001b[0mnp\u001b[0m\u001b[1;33m.\u001b[0m\u001b[0msave\u001b[0m\u001b[1;33m(\u001b[0m\u001b[0mdata_path\u001b[0m \u001b[1;33m+\u001b[0m \u001b[1;34m\"cls_data_source_balanced.npy\"\u001b[0m\u001b[1;33m,\u001b[0m \u001b[0mcls_fin\u001b[0m\u001b[1;33m)\u001b[0m\u001b[1;33m\u001b[0m\u001b[0m\n",
      "\u001b[1;31mNameError\u001b[0m: name 'ftr_res' is not defined"
     ]
    }
   ],
   "source": [
    "np.save(data_path + \"ftr_data_source_balanced.npy\", ftr_res)\n",
    "np.save(data_path + \"cls_data_source_balanced.npy\", cls_fin)"
   ]
  },
  {
   "cell_type": "markdown",
   "metadata": {},
   "source": [
    "## Menyiapkan Target Dataset\n",
    "Menyiapkan Target Dataset, mengubah bentuknya agar bisa menjadi masukan untuk CNN."
   ]
  },
  {
   "cell_type": "code",
   "execution_count": 40,
   "metadata": {},
   "outputs": [],
   "source": [
    "import re\n",
    "import json\n",
    "import unicodedata\n",
    "import mysql.connector\n",
    "import numpy as np\n",
    "import pandas as pd"
   ]
  },
  {
   "cell_type": "code",
   "execution_count": 41,
   "metadata": {},
   "outputs": [],
   "source": [
    "data_target_path = \"data/data_target/\"\n",
    "filename_data_target = \"data_target_schematics.csv\""
   ]
  },
  {
   "cell_type": "code",
   "execution_count": 42,
   "metadata": {},
   "outputs": [],
   "source": [
    "def arrangeInputMatrix(data, labels):\n",
    "    ftr_list = []\n",
    "    cls_list = []\n",
    "    \n",
    "    unique_labels = pd.unique(labels)\n",
    "    total_labels = len(unique_labels)\n",
    "    \n",
    "    for i in range(len(data)):\n",
    "        cls = np.zeros((total_labels,), dtype=int)\n",
    "        cls_idx = np.where(unique_labels == labels[i])[0][0]\n",
    "        cls[cls_idx] = 1\n",
    "        \n",
    "        string = data[i].replace('\\n', '')\n",
    "        string = np.array(myTokenizer(string))\n",
    "\n",
    "        begin = True\n",
    "        for word in string:\n",
    "            stat, vec = getWordEmbedding(word, cursor)\n",
    "            if not stat:\n",
    "                continue\n",
    "            if begin:\n",
    "                begin = False\n",
    "                feature = vec\n",
    "            else:\n",
    "                feature += vec\n",
    "                # feature = np.concatenate([feature, vec])\n",
    "\n",
    "        feature = feature/np.linalg.norm(feature)\n",
    "        ftr_list.append(feature)\n",
    "        cls_list.append(cls)\n",
    "        \n",
    "    return np.array(ftr_list), np.array(cls_list)"
   ]
  },
  {
   "cell_type": "code",
   "execution_count": 2,
   "metadata": {},
   "outputs": [
    {
     "name": "stdout",
     "output_type": "stream",
     "text": [
      "convert into numpy array\n"
     ]
    },
    {
     "ename": "NameError",
     "evalue": "name 'pd' is not defined",
     "output_type": "error",
     "traceback": [
      "\u001b[1;31m---------------------------------------------------------------------------\u001b[0m",
      "\u001b[1;31mNameError\u001b[0m                                 Traceback (most recent call last)",
      "\u001b[1;32m<ipython-input-2-b38f3563f933>\u001b[0m in \u001b[0;36m<module>\u001b[1;34m\u001b[0m\n\u001b[0;32m      1\u001b[0m \u001b[0mprint\u001b[0m \u001b[1;33m(\u001b[0m\u001b[1;34m\"convert into numpy array\"\u001b[0m\u001b[1;33m)\u001b[0m\u001b[1;33m\u001b[0m\u001b[0m\n\u001b[1;32m----> 2\u001b[1;33m \u001b[0mdf\u001b[0m \u001b[1;33m=\u001b[0m \u001b[0mpd\u001b[0m\u001b[1;33m.\u001b[0m\u001b[0mread_csv\u001b[0m\u001b[1;33m(\u001b[0m\u001b[0mdata_target_path\u001b[0m \u001b[1;33m+\u001b[0m \u001b[0mfilename_data_target\u001b[0m\u001b[1;33m,\u001b[0m \u001b[0msep\u001b[0m\u001b[1;33m=\u001b[0m\u001b[1;34m','\u001b[0m\u001b[1;33m,\u001b[0m \u001b[0mnames\u001b[0m\u001b[1;33m=\u001b[0m\u001b[1;33m[\u001b[0m\u001b[1;34m\"documents\"\u001b[0m\u001b[1;33m,\u001b[0m \u001b[1;34m\"labels\"\u001b[0m\u001b[1;33m]\u001b[0m\u001b[1;33m)\u001b[0m\u001b[1;33m\u001b[0m\u001b[0m\n\u001b[0m\u001b[0;32m      3\u001b[0m \u001b[0mdocuments\u001b[0m \u001b[1;33m=\u001b[0m \u001b[0mdf\u001b[0m\u001b[1;33m[\u001b[0m\u001b[1;34m\"documents\"\u001b[0m\u001b[1;33m]\u001b[0m\u001b[1;33m.\u001b[0m\u001b[0mvalues\u001b[0m\u001b[1;33m\u001b[0m\u001b[0m\n\u001b[0;32m      4\u001b[0m \u001b[0mlabels\u001b[0m \u001b[1;33m=\u001b[0m \u001b[0mdf\u001b[0m\u001b[1;33m[\u001b[0m\u001b[1;34m\"labels\"\u001b[0m\u001b[1;33m]\u001b[0m\u001b[1;33m.\u001b[0m\u001b[0mvalues\u001b[0m\u001b[1;33m\u001b[0m\u001b[0m\n",
      "\u001b[1;31mNameError\u001b[0m: name 'pd' is not defined"
     ]
    }
   ],
   "source": [
    "print (\"convert into numpy array\")\n",
    "df = pd.read_csv(data_target_path + filename_data_target, sep=',', names=[\"documents\", \"labels\"])\n",
    "documents = df[\"documents\"].values\n",
    "labels = df[\"labels\"].values"
   ]
  },
  {
   "cell_type": "code",
   "execution_count": 1,
   "metadata": {},
   "outputs": [
    {
     "ename": "NameError",
     "evalue": "name 'arrangeInputMatrix' is not defined",
     "output_type": "error",
     "traceback": [
      "\u001b[1;31m---------------------------------------------------------------------------\u001b[0m",
      "\u001b[1;31mNameError\u001b[0m                                 Traceback (most recent call last)",
      "\u001b[1;32m<ipython-input-1-7b0f1d63fdb0>\u001b[0m in \u001b[0;36m<module>\u001b[1;34m\u001b[0m\n\u001b[1;32m----> 1\u001b[1;33m \u001b[0mftr\u001b[0m\u001b[1;33m,\u001b[0m \u001b[0mcls\u001b[0m \u001b[1;33m=\u001b[0m \u001b[0marrangeInputMatrix\u001b[0m\u001b[1;33m(\u001b[0m\u001b[0mdocuments\u001b[0m\u001b[1;33m,\u001b[0m \u001b[0mlabels\u001b[0m\u001b[1;33m)\u001b[0m\u001b[1;33m\u001b[0m\u001b[0m\n\u001b[0m",
      "\u001b[1;31mNameError\u001b[0m: name 'arrangeInputMatrix' is not defined"
     ]
    }
   ],
   "source": [
    "ftr, cls = arrangeInputMatrix(documents, labels)"
   ]
  },
  {
   "cell_type": "code",
   "execution_count": 23,
   "metadata": {},
   "outputs": [
    {
     "name": "stdout",
     "output_type": "stream",
     "text": [
      "checking len of array\n",
      "True\n",
      "True\n",
      "\n",
      "checking size of arrays\n",
      "size of ftr: (462L, 300L)\n",
      "size pf cls: (462L, 22L)\n"
     ]
    }
   ],
   "source": [
    "print \"checking len of array\"\n",
    "print len(documents) == len(ftr)\n",
    "print len(documents) == len(cls)\n",
    "\n",
    "print\n",
    "print \"checking size of arrays\"\n",
    "print \"size of ftr: \" + str(ftr.shape)\n",
    "print \"size pf cls: \" + str(cls.shape)"
   ]
  },
  {
   "cell_type": "code",
   "execution_count": 24,
   "metadata": {},
   "outputs": [],
   "source": [
    "np.save(data_target_path + \"ftr_data_target.npy\", ftr)\n",
    "np.save(data_target_path + \"cls_data_target.npy\", cls)"
   ]
  },
  {
   "cell_type": "markdown",
   "metadata": {},
   "source": [
    "## Splitting Dataset\n",
    "Memisahkan Source Dataset dan Target Dataset menjadi Train Set dan Test Tes"
   ]
  },
  {
   "cell_type": "markdown",
   "metadata": {},
   "source": [
    "## Splitting Target Dataset"
   ]
  },
  {
   "cell_type": "code",
   "execution_count": 35,
   "metadata": {},
   "outputs": [],
   "source": [
    "ftr_data_target = np.load(data_path + \"ftr-data-source.npy\")\n",
    "cls_data_target = np.load(data_path + \"cls-data-source.npy\")"
   ]
  },
  {
   "cell_type": "code",
   "execution_count": 36,
   "metadata": {},
   "outputs": [],
   "source": [
    "data_target_path_splitted = \"data/splitted/data_target/\""
   ]
  },
  {
   "cell_type": "code",
   "execution_count": 37,
   "metadata": {},
   "outputs": [
    {
     "ename": "ValueError",
     "evalue": "The least populated class in y has only 1 member, which is too few. The minimum number of groups for any class cannot be less than 2.",
     "output_type": "error",
     "traceback": [
      "\u001b[1;31m---------------------------------------------------------------------------\u001b[0m",
      "\u001b[1;31mValueError\u001b[0m                                Traceback (most recent call last)",
      "\u001b[1;32m<ipython-input-37-91289a031fcb>\u001b[0m in \u001b[0;36m<module>\u001b[1;34m\u001b[0m\n\u001b[0;32m      2\u001b[0m \u001b[1;33m\u001b[0m\u001b[0m\n\u001b[0;32m      3\u001b[0m \u001b[0msss\u001b[0m \u001b[1;33m=\u001b[0m \u001b[0mStratifiedShuffleSplit\u001b[0m\u001b[1;33m(\u001b[0m\u001b[0mn_splits\u001b[0m\u001b[1;33m=\u001b[0m\u001b[1;36m3\u001b[0m\u001b[1;33m,\u001b[0m \u001b[0mtest_size\u001b[0m\u001b[1;33m=\u001b[0m\u001b[1;36m0.5\u001b[0m\u001b[1;33m,\u001b[0m \u001b[0mrandom_state\u001b[0m\u001b[1;33m=\u001b[0m\u001b[1;36m0\u001b[0m\u001b[1;33m)\u001b[0m\u001b[1;33m\u001b[0m\u001b[0m\n\u001b[1;32m----> 4\u001b[1;33m \u001b[1;32mfor\u001b[0m \u001b[0mtrain_index\u001b[0m\u001b[1;33m,\u001b[0m \u001b[0mtest_index\u001b[0m \u001b[1;32min\u001b[0m \u001b[0msss\u001b[0m\u001b[1;33m.\u001b[0m\u001b[0msplit\u001b[0m\u001b[1;33m(\u001b[0m\u001b[0mftr_data_target\u001b[0m\u001b[1;33m,\u001b[0m \u001b[0mcls_data_target\u001b[0m\u001b[1;33m)\u001b[0m\u001b[1;33m:\u001b[0m\u001b[1;33m\u001b[0m\u001b[0m\n\u001b[0m\u001b[0;32m      5\u001b[0m     \u001b[0mX\u001b[0m\u001b[1;33m,\u001b[0m \u001b[0mX_test\u001b[0m \u001b[1;33m=\u001b[0m \u001b[0mftr_data_target\u001b[0m\u001b[1;33m[\u001b[0m\u001b[0mtrain_index\u001b[0m\u001b[1;33m]\u001b[0m\u001b[1;33m,\u001b[0m \u001b[0mftr_data_target\u001b[0m\u001b[1;33m[\u001b[0m\u001b[0mtest_index\u001b[0m\u001b[1;33m]\u001b[0m\u001b[1;33m\u001b[0m\u001b[0m\n\u001b[0;32m      6\u001b[0m     \u001b[0mY\u001b[0m\u001b[1;33m,\u001b[0m \u001b[0mY_test\u001b[0m \u001b[1;33m=\u001b[0m \u001b[0mcls_data_target\u001b[0m\u001b[1;33m[\u001b[0m\u001b[0mtrain_index\u001b[0m\u001b[1;33m]\u001b[0m\u001b[1;33m,\u001b[0m \u001b[0mcls_data_target\u001b[0m\u001b[1;33m[\u001b[0m\u001b[0mtest_index\u001b[0m\u001b[1;33m]\u001b[0m\u001b[1;33m\u001b[0m\u001b[0m\n",
      "\u001b[1;32mc:\\users\\purina qa\\appdata\\local\\programs\\python\\python36\\lib\\site-packages\\sklearn\\model_selection\\_split.py\u001b[0m in \u001b[0;36msplit\u001b[1;34m(self, X, y, groups)\u001b[0m\n\u001b[0;32m   1235\u001b[0m         \"\"\"\n\u001b[0;32m   1236\u001b[0m         \u001b[0mX\u001b[0m\u001b[1;33m,\u001b[0m \u001b[0my\u001b[0m\u001b[1;33m,\u001b[0m \u001b[0mgroups\u001b[0m \u001b[1;33m=\u001b[0m \u001b[0mindexable\u001b[0m\u001b[1;33m(\u001b[0m\u001b[0mX\u001b[0m\u001b[1;33m,\u001b[0m \u001b[0my\u001b[0m\u001b[1;33m,\u001b[0m \u001b[0mgroups\u001b[0m\u001b[1;33m)\u001b[0m\u001b[1;33m\u001b[0m\u001b[0m\n\u001b[1;32m-> 1237\u001b[1;33m         \u001b[1;32mfor\u001b[0m \u001b[0mtrain\u001b[0m\u001b[1;33m,\u001b[0m \u001b[0mtest\u001b[0m \u001b[1;32min\u001b[0m \u001b[0mself\u001b[0m\u001b[1;33m.\u001b[0m\u001b[0m_iter_indices\u001b[0m\u001b[1;33m(\u001b[0m\u001b[0mX\u001b[0m\u001b[1;33m,\u001b[0m \u001b[0my\u001b[0m\u001b[1;33m,\u001b[0m \u001b[0mgroups\u001b[0m\u001b[1;33m)\u001b[0m\u001b[1;33m:\u001b[0m\u001b[1;33m\u001b[0m\u001b[0m\n\u001b[0m\u001b[0;32m   1238\u001b[0m             \u001b[1;32myield\u001b[0m \u001b[0mtrain\u001b[0m\u001b[1;33m,\u001b[0m \u001b[0mtest\u001b[0m\u001b[1;33m\u001b[0m\u001b[0m\n\u001b[0;32m   1239\u001b[0m \u001b[1;33m\u001b[0m\u001b[0m\n",
      "\u001b[1;32mc:\\users\\purina qa\\appdata\\local\\programs\\python\\python36\\lib\\site-packages\\sklearn\\model_selection\\_split.py\u001b[0m in \u001b[0;36m_iter_indices\u001b[1;34m(self, X, y, groups)\u001b[0m\n\u001b[0;32m   1583\u001b[0m         \u001b[0mclass_counts\u001b[0m \u001b[1;33m=\u001b[0m \u001b[0mnp\u001b[0m\u001b[1;33m.\u001b[0m\u001b[0mbincount\u001b[0m\u001b[1;33m(\u001b[0m\u001b[0my_indices\u001b[0m\u001b[1;33m)\u001b[0m\u001b[1;33m\u001b[0m\u001b[0m\n\u001b[0;32m   1584\u001b[0m         \u001b[1;32mif\u001b[0m \u001b[0mnp\u001b[0m\u001b[1;33m.\u001b[0m\u001b[0mmin\u001b[0m\u001b[1;33m(\u001b[0m\u001b[0mclass_counts\u001b[0m\u001b[1;33m)\u001b[0m \u001b[1;33m<\u001b[0m \u001b[1;36m2\u001b[0m\u001b[1;33m:\u001b[0m\u001b[1;33m\u001b[0m\u001b[0m\n\u001b[1;32m-> 1585\u001b[1;33m             raise ValueError(\"The least populated class in y has only 1\"\n\u001b[0m\u001b[0;32m   1586\u001b[0m                              \u001b[1;34m\" member, which is too few. The minimum\"\u001b[0m\u001b[1;33m\u001b[0m\u001b[0m\n\u001b[0;32m   1587\u001b[0m                              \u001b[1;34m\" number of groups for any class cannot\"\u001b[0m\u001b[1;33m\u001b[0m\u001b[0m\n",
      "\u001b[1;31mValueError\u001b[0m: The least populated class in y has only 1 member, which is too few. The minimum number of groups for any class cannot be less than 2."
     ]
    }
   ],
   "source": [
    "from sklearn.model_selection import train_test_split, StratifiedShuffleSplit\n",
    "\n",
    "sss = StratifiedShuffleSplit(n_splits=3, test_size=0.5, random_state=0)\n",
    "for train_index, test_index in sss.split(ftr_data_target, cls_data_target):\n",
    "    X, X_test = ftr_data_target[train_index], ftr_data_target[test_index]\n",
    "    Y, Y_test = cls_data_target[train_index], cls_data_target[test_index]\n",
    "    break\n",
    "# X = np.expand_dims(X, axis=2)\n",
    "# X_test = np.expand_dims(X_test, axis=2)"
   ]
  },
  {
   "cell_type": "code",
   "execution_count": 29,
   "metadata": {},
   "outputs": [],
   "source": [
    "np.save(data_target_path_splitted + \"X.npy\", X)\n",
    "np.save(data_target_path_splitted + \"Y.npy\", Y)\n",
    "np.save(data_target_path_splitted + \"X_test.npy\", X_test)\n",
    "np.save(data_target_path_splitted + \"Y_test.npy\", Y_test)"
   ]
  },
  {
   "cell_type": "markdown",
   "metadata": {},
   "source": [
    "## Splitting Source Dataset"
   ]
  },
  {
   "cell_type": "code",
   "execution_count": 28,
   "metadata": {},
   "outputs": [
    {
     "ename": "FileNotFoundError",
     "evalue": "[Errno 2] No such file or directory: 'data/data_source/ftr_data_source.npy'",
     "output_type": "error",
     "traceback": [
      "\u001b[1;31m---------------------------------------------------------------------------\u001b[0m",
      "\u001b[1;31mFileNotFoundError\u001b[0m                         Traceback (most recent call last)",
      "\u001b[1;32m<ipython-input-28-262fbe62f32d>\u001b[0m in \u001b[0;36m<module>\u001b[1;34m\u001b[0m\n\u001b[0;32m      1\u001b[0m \u001b[0mdata_source_path\u001b[0m \u001b[1;33m=\u001b[0m \u001b[1;34m\"data/data_source/\"\u001b[0m\u001b[1;33m\u001b[0m\u001b[0m\n\u001b[0;32m      2\u001b[0m \u001b[1;33m\u001b[0m\u001b[0m\n\u001b[1;32m----> 3\u001b[1;33m \u001b[0mftr_data_source\u001b[0m \u001b[1;33m=\u001b[0m \u001b[0mnp\u001b[0m\u001b[1;33m.\u001b[0m\u001b[0mload\u001b[0m\u001b[1;33m(\u001b[0m\u001b[0mdata_source_path\u001b[0m \u001b[1;33m+\u001b[0m \u001b[1;34m\"ftr_data_source.npy\"\u001b[0m\u001b[1;33m)\u001b[0m\u001b[1;33m\u001b[0m\u001b[0m\n\u001b[0m\u001b[0;32m      4\u001b[0m \u001b[0mcls_data_source\u001b[0m \u001b[1;33m=\u001b[0m \u001b[0mnp\u001b[0m\u001b[1;33m.\u001b[0m\u001b[0mload\u001b[0m\u001b[1;33m(\u001b[0m\u001b[0mdata_source_path\u001b[0m \u001b[1;33m+\u001b[0m \u001b[1;34m\"cls_data_source.npy\"\u001b[0m\u001b[1;33m)\u001b[0m\u001b[1;33m\u001b[0m\u001b[0m\n",
      "\u001b[1;32mc:\\users\\purina qa\\appdata\\local\\programs\\python\\python36\\lib\\site-packages\\numpy\\lib\\npyio.py\u001b[0m in \u001b[0;36mload\u001b[1;34m(file, mmap_mode, allow_pickle, fix_imports, encoding)\u001b[0m\n\u001b[0;32m    382\u001b[0m     \u001b[0mown_fid\u001b[0m \u001b[1;33m=\u001b[0m \u001b[1;32mFalse\u001b[0m\u001b[1;33m\u001b[0m\u001b[0m\n\u001b[0;32m    383\u001b[0m     \u001b[1;32mif\u001b[0m \u001b[0misinstance\u001b[0m\u001b[1;33m(\u001b[0m\u001b[0mfile\u001b[0m\u001b[1;33m,\u001b[0m \u001b[0mbasestring\u001b[0m\u001b[1;33m)\u001b[0m\u001b[1;33m:\u001b[0m\u001b[1;33m\u001b[0m\u001b[0m\n\u001b[1;32m--> 384\u001b[1;33m         \u001b[0mfid\u001b[0m \u001b[1;33m=\u001b[0m \u001b[0mopen\u001b[0m\u001b[1;33m(\u001b[0m\u001b[0mfile\u001b[0m\u001b[1;33m,\u001b[0m \u001b[1;34m\"rb\"\u001b[0m\u001b[1;33m)\u001b[0m\u001b[1;33m\u001b[0m\u001b[0m\n\u001b[0m\u001b[0;32m    385\u001b[0m         \u001b[0mown_fid\u001b[0m \u001b[1;33m=\u001b[0m \u001b[1;32mTrue\u001b[0m\u001b[1;33m\u001b[0m\u001b[0m\n\u001b[0;32m    386\u001b[0m     \u001b[1;32melif\u001b[0m \u001b[0mis_pathlib_path\u001b[0m\u001b[1;33m(\u001b[0m\u001b[0mfile\u001b[0m\u001b[1;33m)\u001b[0m\u001b[1;33m:\u001b[0m\u001b[1;33m\u001b[0m\u001b[0m\n",
      "\u001b[1;31mFileNotFoundError\u001b[0m: [Errno 2] No such file or directory: 'data/data_source/ftr_data_source.npy'"
     ]
    }
   ],
   "source": [
    "data_source_path = \"data/data_source/\"\n",
    "\n",
    "ftr_data_source = np.load(data_source_path + \"ftr_data_source_balanced.npy\")\n",
    "cls_data_source = np.load(data_source_path + \"cls_data_source_balanced.npy\")"
   ]
  },
  {
   "cell_type": "code",
   "execution_count": 31,
   "metadata": {},
   "outputs": [],
   "source": [
    "data_source_path_splitted = \"data/splitted/data_source/\""
   ]
  },
  {
   "cell_type": "code",
   "execution_count": 33,
   "metadata": {},
   "outputs": [],
   "source": [
    "from sklearn.model_selection import train_test_split, StratifiedShuffleSplit\n",
    "\n",
    "sss = StratifiedShuffleSplit(n_splits=3, test_size=0.1, random_state=0)\n",
    "for train_index, test_index in sss.split(ftr_data_source, cls_data_source):\n",
    "    X, X_test = ftr_data_source[train_index], ftr_data_source[test_index]\n",
    "    Y, Y_test = cls_data_source[train_index], cls_data_source[test_index]\n",
    "    break\n",
    "# X = np.expand_dims(X, axis=2)\n",
    "# X_test = np.expand_dims(X_test, axis=2)"
   ]
  },
  {
   "cell_type": "code",
   "execution_count": 34,
   "metadata": {},
   "outputs": [],
   "source": [
    "np.save(data_source_path_splitted + \"X.npy\", X)\n",
    "np.save(data_source_path_splitted + \"Y.npy\", Y)\n",
    "np.save(data_source_path_splitted + \"X_test.npy\", X_test)\n",
    "np.save(data_source_path_splitted + \"Y_test.npy\", Y_test)"
   ]
  },
  {
   "cell_type": "code",
   "execution_count": null,
   "metadata": {},
   "outputs": [],
   "source": []
  }
 ],
 "metadata": {
  "kernelspec": {
   "display_name": "Python 3",
   "language": "python",
   "name": "python3"
  },
  "language_info": {
   "codemirror_mode": {
    "name": "ipython",
    "version": 3
   },
   "file_extension": ".py",
   "mimetype": "text/x-python",
   "name": "python",
   "nbconvert_exporter": "python",
   "pygments_lexer": "ipython3",
   "version": "3.6.5"
  }
 },
 "nbformat": 4,
 "nbformat_minor": 2
}
